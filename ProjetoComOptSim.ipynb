{
 "cells": [
  {
   "cell_type": "code",
   "execution_count": 1,
   "metadata": {},
   "outputs": [],
   "source": [
    "import numpy as np\n",
    "import matplotlib.pyplot as plt\n",
    "import matplotlib.ticker as tck\n",
    "import sympy as sym\n",
    "import warnings\n",
    "\n",
    "from IPython.display import display, Math, clear_output\n",
    "from numpy.lib.scimath import sqrt as csqrt\n",
    "from scipy import constants\n",
    "from scipy.constants import c\n",
    "from scipy.constants import value\n",
    "from numpy.random import normal\n",
    "import os\n",
    "\n",
    "from optic.core import parameters\n",
    "from optic.dsp import firFilter, pulseShape,  lowPassFIR,  pnorm\n",
    "from optic.models import mzm, photodiode\n",
    "from optic.plot import eyediagram\n",
    "from commpy.utilities  import signal_power, upsample"
   ]
  }
 ],
 "metadata": {
  "kernelspec": {
   "display_name": "Python 3",
   "language": "python",
   "name": "python3"
  },
  "language_info": {
   "codemirror_mode": {
    "name": "ipython",
    "version": 3
   },
   "file_extension": ".py",
   "mimetype": "text/x-python",
   "name": "python",
   "nbconvert_exporter": "python",
   "pygments_lexer": "ipython3",
   "version": "3.10.2"
  },
  "orig_nbformat": 4
 },
 "nbformat": 4,
 "nbformat_minor": 2
}
